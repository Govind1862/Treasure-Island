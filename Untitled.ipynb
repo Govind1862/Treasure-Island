{
 "cells": [
  {
   "cell_type": "code",
   "execution_count": 1,
   "id": "ec448166-8203-4bae-9f16-343b71b1d6f0",
   "metadata": {},
   "outputs": [
    {
     "name": "stdout",
     "output_type": "stream",
     "text": [
      "Welcome to Treasure Island.\n",
      "Your mission is to find the treasure.\n"
     ]
    },
    {
     "name": "stdin",
     "output_type": "stream",
     "text": [
      "would you like to go left or right? left\n",
      "you have arrived at a pond. Would you like to swim or wait? wait\n",
      "you have reached a house with 3 doors\n",
      "red\n",
      "blue\n",
      "green\n",
      "which will you open? green\n"
     ]
    },
    {
     "name": "stdout",
     "output_type": "stream",
     "text": [
      "you found the treasure!\n",
      "Congratulations!!\n"
     ]
    }
   ],
   "source": [
    "print(\"Welcome to Treasure Island.\\nYour mission is to find the treasure.\")\n",
    "a = input(\"would you like to go left or right?\")\n",
    "if(a==\"left\"):\n",
    "    b = input(\"you have arrived at a pond. Would you like to swim or wait?\")\n",
    "    if(b==\"wait\"):\n",
    "        c = input(\"you have reached a house with 3 doors\\nred\\nblue\\ngreen\\nwhich will you open?\\n\")\n",
    "        if(c==\"red\"):\n",
    "            print(\"you were attacked by fire and died\")\n",
    "        elif(c==\"blue\"):\n",
    "            print(\"you were attacked by a witch and died\")\n",
    "        elif(c==\"green\"):\n",
    "            print(\"you found the treasure!\\nCongratulations!!\")\n",
    "        else:\n",
    "            print(\"you did nothing and lost the treasure\")\n",
    "    else:\n",
    "        print(\"you tried to swim and drowned\")\n",
    "\n",
    "else:\n",
    "    print(\"Fall into a hole.\\nGame Over.\")"
   ]
  },
  {
   "cell_type": "code",
   "execution_count": null,
   "id": "f908a6e1-5bdd-48cb-ba44-12601b9e2a04",
   "metadata": {},
   "outputs": [],
   "source": []
  }
 ],
 "metadata": {
  "kernelspec": {
   "display_name": "Python 3 (ipykernel)",
   "language": "python",
   "name": "python3"
  },
  "language_info": {
   "codemirror_mode": {
    "name": "ipython",
    "version": 3
   },
   "file_extension": ".py",
   "mimetype": "text/x-python",
   "name": "python",
   "nbconvert_exporter": "python",
   "pygments_lexer": "ipython3",
   "version": "3.12.4"
  }
 },
 "nbformat": 4,
 "nbformat_minor": 5
}
